{
 "cells": [
  {
   "cell_type": "markdown",
   "metadata": {},
   "source": [
    "<h2 style='text-align: center;'>RAG: Overview</h2>\n",
    "\n",
    "<p align='center'>\n",
    "  <img src='./rag.png' width=480 style='border-radius: 14px;' />\n",
    "</p>\n",
    "\n",
    "<p align='justify' style='padding-left: 20rem; padding-right: 20rem; padding-top: 2rem;'>\n",
    "  &nbsp;&nbsp;&nbsp;Neste notebook, pretendo mergulhar em um guia rápido para um projeto RAG usando LangChain. O projeto LangChain é uma plataforma baseada em blockchain que tem como objetivo fornecer uma maneira descentralizada e segura de armazenar e compartilhar dados linguísticos. A plataforma é construída em cima da blockchain Ethereum e usa o protocolo IPFS para armazenar os dados. A plataforma é projetada para ser usada por pesquisadores de linguagem, linguistas e entusiastas de linguagem que desejam armazenar e compartilhar dados linguísticos de forma segura e descentralizada.\n",
    "</p>\n",
    "\n",
    "<br>"
   ]
  },
  {
   "cell_type": "markdown",
   "metadata": {},
   "source": [
    "<h3>Setting Up</h3>"
   ]
  },
  {
   "cell_type": "code",
   "execution_count": 4,
   "metadata": {},
   "outputs": [],
   "source": [
    "import sys\n",
    "sys.path.append('D:/Deep Learning/Diver')\n",
    "\n",
    "from config.constants import *\n",
    "from config.config import *\n",
    "from config.utils import *\n",
    "\n",
    "warnings.filterwarnings('ignore')\n",
    "\n",
    "os.environ['LANGCHAIN_TRACING_V2'] = 'true'\n",
    "os.environ['LANGCHAIN_PROJECT'] = f'RAG'\n",
    "os.environ['LANGCHAIN_ENDPOINT'] = 'https://api.smith.langchain.com'\n",
    "os.environ['LANGCHAIN_API_KEY'] = settings.LANGSMITH_API_KEY"
   ]
  },
  {
   "cell_type": "markdown",
   "metadata": {},
   "source": [
    "<h3>Indexing</h3>"
   ]
  },
  {
   "cell_type": "code",
   "execution_count": 5,
   "metadata": {},
   "outputs": [],
   "source": [
    "hf_embeddings = HuggingFaceEmbeddings(model_name='sentence-transformers/all-MiniLM-L6-v2')\n",
    "\n",
    "loader = WebBaseLoader(\n",
    "  web_paths=('https://github.com/naomilago?tab=repositories',)\n",
    ")\n",
    "\n",
    "docs = loader.load()\n",
    "\n",
    "text_splitter = RecursiveCharacterTextSplitter()\n",
    "splits = text_splitter.split_documents(docs)\n",
    "\n",
    "vector_store = Chroma.from_documents(documents=splits, embedding=hf_embeddings)"
   ]
  },
  {
   "cell_type": "markdown",
   "metadata": {},
   "source": [
    "<h3>Retrieval and Generation</h3>"
   ]
  },
  {
   "cell_type": "code",
   "execution_count": 6,
   "metadata": {},
   "outputs": [
    {
     "data": {
      "text/markdown": [
       "## Repositórios Mais Populares de Naomi Lago\n",
       "\n",
       "Analisando o perfil do GitHub de Naomi Lago, podemos destacar os seguintes repositórios como os mais populares, considerando a quantidade de estrelas e a descrição dos projetos:\n",
       "\n",
       "*   **diver:** Este repositório abriga o código do Diver, um bot com inteligência artificial projetado para auxiliar usuários na exploração do mundo da Ciência de Dados. Ele oferece conhecimento técnico e insights do blog pessoal de Naomi.\n",
       "*   **fitness-tracker:** Este projeto envolve o processamento, análise e modelagem de dados de condicionamento físico para classificar exercícios com barra e contar repetições.\n",
       "*   **Falconize:** Um projeto Capstone de Ciência de Dados Aplicada oferecido pela IBM na Coursera.\n",
       "*   **Mentoria\\_Python:** Este repositório compartilha notebooks para mentorias em programação Python.\n",
       "*   **detecting-programming-lanugages:** Um projeto para praticar o uso do SpaCy para Reconhecimento de Entidades Nomeadas (NER) em linguagens de programação.\n",
       "\n",
       "Esses repositórios demonstram a expertise de Naomi Lago em Ciência de Dados e áreas relacionadas, como Processamento de Linguagem Natural (PNL) e aprendizado de máquina. \n"
      ],
      "text/plain": [
       "<IPython.core.display.Markdown object>"
      ]
     },
     "metadata": {},
     "output_type": "display_data"
    }
   ],
   "source": [
    "retriever = vector_store.as_retriever()\n",
    "\n",
    "template = '''\n",
    "You are a reference in academic communication, focusing on all kind of target audience. \n",
    "Everyone listen and understand what you have to say, so you always answer with a great markdown syntax and in a very assertive, clear, and concise language. Use your knowledge to answer the following:\n",
    "\n",
    "{context}\n",
    "\n",
    "{question}\n",
    "'''\n",
    "\n",
    "prompt = PromptTemplate(template=template, input_variables=['question'])\n",
    "\n",
    "llm = ChatGoogleGenerativeAI(\n",
    "  google_api_key=settings.GEMINI_API_KEY,\n",
    "  model='gemini-1.5-pro-latest',\n",
    "  temperature=0\n",
    ")\n",
    "\n",
    "docs_formatter = lambda docs: str.join('\\n\\n', (_.page_content for _ in docs))\n",
    "\n",
    "chain = RunnableSequence((\n",
    "  {'context': retriever | docs_formatter, 'question': RunnablePassthrough()}\n",
    "  | prompt\n",
    "  | llm\n",
    "  | StrOutputParser()\n",
    "))\n",
    "\n",
    "result = chain.invoke('Quais os repositorios mais populares de Naomi Lago?')\n",
    "display(Markdown(result))"
   ]
  }
 ],
 "metadata": {
  "kernelspec": {
   "display_name": "Python 3",
   "language": "python",
   "name": "python3"
  },
  "language_info": {
   "codemirror_mode": {
    "name": "ipython",
    "version": 3
   },
   "file_extension": ".py",
   "mimetype": "text/x-python",
   "name": "python",
   "nbconvert_exporter": "python",
   "pygments_lexer": "ipython3",
   "version": "3.10.11"
  }
 },
 "nbformat": 4,
 "nbformat_minor": 2
}
